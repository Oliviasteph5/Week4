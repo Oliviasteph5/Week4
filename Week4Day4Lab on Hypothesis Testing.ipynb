{
 "cells": [
  {
   "cell_type": "code",
   "execution_count": 38,
   "id": "3f01a73e",
   "metadata": {},
   "outputs": [],
   "source": [
    "#Instructions\n",
    "#It is assumed that the mean systolic blood pressure is μ = 120 mm Hg. \n",
    "#In the Honolulu Heart Study, a sample of n = 100 people had an average systolic blood pressure of 130.1 mm Hg \n",
    "#with a standard deviation of 21.21 mm Hg. Is the group significantly different (with respect to systolic blood pressure!) \n",
    "#from the regular population?\n",
    "\n",
    "#Set up the hypothesis test.\n",
    "#Write down all the steps followed for setting up the test.\n",
    "#Calculate the test statistic by hand and also code it in Python. It should be 4.76190. \n",
    "#What decision can you make based on this calculated value?"
   ]
  },
  {
   "cell_type": "code",
   "execution_count": 39,
   "id": "3228fb72",
   "metadata": {},
   "outputs": [],
   "source": [
    "import numpy as np\n",
    "import pandas as pd\n",
    "import scipy.stats as stats\n",
    "import matplotlib.pyplot as plt\n",
    "import seaborn as sns\n",
    "import math\n",
    "%matplotlib inline"
   ]
  },
  {
   "cell_type": "code",
   "execution_count": 40,
   "id": "7adf21b5",
   "metadata": {},
   "outputs": [
    {
     "name": "stdout",
     "output_type": "stream",
     "text": [
      "The z score of our sample is: 4.76\n"
     ]
    }
   ],
   "source": [
    "#standard deviation\n",
    "std = 21.21\n",
    "#Average blood pressure\n",
    "mean = 130.1\n",
    "#Ho\n",
    "mu = 120\n",
    "#population size\n",
    "n = 100\n",
    "#Calculating the test statistic by hand and also code it in Python\n",
    "z = (mean-mu)/(std/math.sqrt(n))\n",
    "print(\"The z score of our sample is: {:.2f}\".format(z))"
   ]
  },
  {
   "cell_type": "code",
   "execution_count": null,
   "id": "366e07b2",
   "metadata": {},
   "outputs": [],
   "source": [
    "## Let's fix our confidence level to 95% which is the same as saying  𝛼=1−0.95=0.05\n",
    " \n",
    "## Now we need to find out for which value on the x axis of a normal distribution we get 0.95 of the total area."
   ]
  },
  {
   "cell_type": "code",
   "execution_count": 42,
   "id": "60eb67ea",
   "metadata": {},
   "outputs": [
    {
     "name": "stdout",
     "output_type": "stream",
     "text": [
      "The critical value corresponding to a 0.95 area of a normal distribution is: 1.64\n"
     ]
    }
   ],
   "source": [
    "zc = stats.norm.ppf(1-0.05) # 0.95 is the confidence level.\n",
    "print(\"The critical value corresponding to a 0.95 area of a normal distribution is: {:.2f}\".format(zc))"
   ]
  },
  {
   "cell_type": "code",
   "execution_count": 45,
   "id": "d7318275",
   "metadata": {},
   "outputs": [
    {
     "name": "stdout",
     "output_type": "stream",
     "text": [
      "9.679647960327303e-07\n"
     ]
    }
   ],
   "source": [
    "#The probability of observing/collecting the sample average assuming the Ho is true is 0% \n",
    "#because it is lower than 5%, this is extreme enough to reject the hypothesis\n",
    "p_value = stats.norm.sf(4.76)\n",
    "print(p_value)"
   ]
  },
  {
   "cell_type": "code",
   "execution_count": 46,
   "id": "6825a0be",
   "metadata": {},
   "outputs": [
    {
     "name": "stdout",
     "output_type": "stream",
     "text": [
      "4.304082186222927e-06\n"
     ]
    }
   ],
   "source": [
    "#The probability of observing/collecting the sample average assuming the Ho is true is 0%\n",
    "#because it is lower than 5%, this is extreme enough to reject the hypothesis\n",
    "#when the sample size is less that 30 or the population standard deviation is unknown, use the t Table\n",
    "p_value = stats.t.sf(4.76, df =79)\n",
    "print(p_value)"
   ]
  },
  {
   "cell_type": "code",
   "execution_count": null,
   "id": "371377c3",
   "metadata": {},
   "outputs": [],
   "source": []
  }
 ],
 "metadata": {
  "kernelspec": {
   "display_name": "Python 3 (ipykernel)",
   "language": "python",
   "name": "python3"
  },
  "language_info": {
   "codemirror_mode": {
    "name": "ipython",
    "version": 3
   },
   "file_extension": ".py",
   "mimetype": "text/x-python",
   "name": "python",
   "nbconvert_exporter": "python",
   "pygments_lexer": "ipython3",
   "version": "3.11.5"
  }
 },
 "nbformat": 4,
 "nbformat_minor": 5
}
